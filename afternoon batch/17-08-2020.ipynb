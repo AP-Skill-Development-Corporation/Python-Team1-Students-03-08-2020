{
 "cells": [
  {
   "cell_type": "markdown",
   "metadata": {},
   "source": [
    "## File Handling\n",
    "- A file is a named location to store relative information.\n",
    "- A file is a collection of data.\n",
    "\n",
    "### Steps in file handling\n",
    "1. Open a file\n",
    "2. Doing the operations\n",
    "3. Close a file\n",
    "\n",
    "### There are three kinds of modes in file handling\n",
    "- 'r' for reading\n",
    "- 'w' for writing\n",
    "- 'a' for appending"
   ]
  },
  {
   "cell_type": "code",
   "execution_count": 2,
   "metadata": {},
   "outputs": [
    {
     "name": "stdout",
     "output_type": "stream",
     "text": [
      "online programming on python\n",
      "apssdc@12\n",
      "good afternoon 123 \n"
     ]
    }
   ],
   "source": [
    "# read() method\n",
    "f = open('DataFiles/data.txt','r')\n",
    "fh = f.read()\n",
    "print(fh)\n",
    "f.close()"
   ]
  },
  {
   "cell_type": "code",
   "execution_count": 3,
   "metadata": {},
   "outputs": [
    {
     "name": "stdout",
     "output_type": "stream",
     "text": [
      "online programming on python\n",
      "apssdc@12\n",
      "good afternoon 123 \n"
     ]
    }
   ],
   "source": [
    "f = open('DataFiles/data.txt')\n",
    "fh = f.read()\n",
    "print(fh)\n",
    "f.close()"
   ]
  },
  {
   "cell_type": "code",
   "execution_count": 6,
   "metadata": {},
   "outputs": [
    {
     "name": "stdout",
     "output_type": "stream",
     "text": [
      "online programming on python\n",
      "apssdc@12\n",
      "good afternoon 123 \n"
     ]
    }
   ],
   "source": [
    "with open('DataFiles/data.txt','r') as f:\n",
    "    fh = f.read()\n",
    "    print(fh)\n",
    "    f.close()"
   ]
  },
  {
   "cell_type": "code",
   "execution_count": 8,
   "metadata": {},
   "outputs": [
    {
     "name": "stdout",
     "output_type": "stream",
     "text": [
      "24\n"
     ]
    }
   ],
   "source": [
    "# write() method \n",
    "f = open('DataFiles/data.txt','w')\n",
    "fh = f.write('welcome to python world\\n')\n",
    "print(fh)\n",
    "f.close()"
   ]
  },
  {
   "cell_type": "code",
   "execution_count": 11,
   "metadata": {},
   "outputs": [],
   "source": [
    "f = open('DataFiles/data.txt','a')\n",
    "fh = f.write('online program on python\\n')\n",
    "fh = f.write('apssdc\\n')\n",
    "fh = f.write('keerthi@123\\n')\n",
    "f.close()"
   ]
  },
  {
   "cell_type": "code",
   "execution_count": 17,
   "metadata": {},
   "outputs": [
    {
     "name": "stdout",
     "output_type": "stream",
     "text": [
      "19\n"
     ]
    }
   ],
   "source": [
    "f = open('DataFiles/data.txt','r')\n",
    "fh = f.read()\n",
    "res = fh.split()\n",
    "#print(res)\n",
    "print(len(res))"
   ]
  },
  {
   "cell_type": "code",
   "execution_count": 15,
   "metadata": {},
   "outputs": [
    {
     "name": "stdout",
     "output_type": "stream",
     "text": [
      "19\n"
     ]
    }
   ],
   "source": [
    "f = open('DataFiles/data.txt','r')\n",
    "fh = f.read()\n",
    "res = fh.split()\n",
    "c = 0\n",
    "for i in res:\n",
    "    c += 1\n",
    "print(c)"
   ]
  },
  {
   "cell_type": "code",
   "execution_count": null,
   "metadata": {},
   "outputs": [],
   "source": [
    "# write a program to return numeric values (or) digits from your file\n",
    "# write a program to return numeric values (or) digits from your file and sum of digits\n",
    "# return words which contains special characters\n",
    "# write a program to find out word frequency"
   ]
  },
  {
   "cell_type": "markdown",
   "metadata": {},
   "source": [
    "## Python OOPs\n",
    "- Object Oriented Programming(OOP) allows decomposition of a problem into a number of units called objects \n",
    "- It allows develop applications using objects and classes\n",
    "\n",
    "### Class\n",
    "- Class is a collection of variables and methods.\n",
    "- Class is a blue print of an object.\n",
    "\n",
    "Syntax:\n",
    "class classname:\n",
    "    No of variables\n",
    "    .\n",
    "    .\n",
    "    No of methods\n",
    "    \n",
    "objectname = classname"
   ]
  },
  {
   "cell_type": "code",
   "execution_count": 19,
   "metadata": {},
   "outputs": [
    {
     "name": "stdout",
     "output_type": "stream",
     "text": [
      "10\n",
      "20\n"
     ]
    }
   ],
   "source": [
    "class Hi:\n",
    "    a,b = 10,20\n",
    "    def display():\n",
    "        print(\"Hi i'm from display method\")\n",
    "        \n",
    "print(Hi.a)\n",
    "print(Hi.b)"
   ]
  },
  {
   "cell_type": "code",
   "execution_count": 22,
   "metadata": {},
   "outputs": [
    {
     "name": "stdout",
     "output_type": "stream",
     "text": [
      "10\n",
      "Hi i'm from display method\n"
     ]
    }
   ],
   "source": [
    "class Hi:\n",
    "    a,b = 10,20\n",
    "    def display():\n",
    "        print(\"Hi i'm from display method\")\n",
    "obj = Hi\n",
    "print(obj.a)\n",
    "obj.display()"
   ]
  },
  {
   "cell_type": "code",
   "execution_count": 25,
   "metadata": {},
   "outputs": [
    {
     "name": "stdout",
     "output_type": "stream",
     "text": [
      "8\n",
      "15\n"
     ]
    }
   ],
   "source": [
    "class Math:\n",
    "    def add(n1,n2):\n",
    "        return n1+n2\n",
    "    def mul(n1,n2):\n",
    "        return n1*n2\n",
    "    \n",
    "obj = Math\n",
    "print(obj.add(5,3))\n",
    "print(obj.mul(5,3))"
   ]
  },
  {
   "cell_type": "markdown",
   "metadata": {},
   "source": [
    "## Constructor\n",
    "\n",
    "    Syntax : \n",
    "        class className:\n",
    "            def __init__(self): it is constructor\n",
    "- 'self' is a current reference object"
   ]
  },
  {
   "cell_type": "code",
   "execution_count": 26,
   "metadata": {},
   "outputs": [
    {
     "name": "stdout",
     "output_type": "stream",
     "text": [
      "I am calling without using object\n"
     ]
    }
   ],
   "source": [
    "class Math:\n",
    "    def __init__(self,num1,num2):\n",
    "        self.num1 = num1\n",
    "        self.num2 = num2\n",
    "        print('I am calling without using object')\n",
    "        \n",
    "obj = Math(5,3)"
   ]
  },
  {
   "cell_type": "code",
   "execution_count": 30,
   "metadata": {},
   "outputs": [
    {
     "name": "stdout",
     "output_type": "stream",
     "text": [
      "5\n",
      "3\n",
      "8\n"
     ]
    }
   ],
   "source": [
    "class Math:\n",
    "    def __init__(self,n1,n2):\n",
    "        self.n1 = n1\n",
    "        self.n2 = n2\n",
    "    def show(self):\n",
    "        print(self.n1)\n",
    "        print(self.n2)\n",
    "    def add(self):\n",
    "        print(self.n1+self.n2)\n",
    "obj = Math(5,3)\n",
    "obj.show()\n",
    "obj.add()"
   ]
  },
  {
   "cell_type": "markdown",
   "metadata": {},
   "source": [
    "### Inheritance\n",
    "- Inheritance allows us to define a class that inherits all the methods and properties from another class\n",
    "- Parent class is the class being inherited from, also called base class\n",
    "- Child class is the class that inherits from another class, also called derived class\n",
    " \n",
    "#### Types of Inheritance\n",
    "1. Single inheritance\n",
    "2. Multiple inheritance\n",
    "3. Multilevel inheritance"
   ]
  },
  {
   "cell_type": "markdown",
   "metadata": {},
   "source": [
    "### Single Inheritance\n",
    "<img src = 'singleinheritance.png'>"
   ]
  },
  {
   "cell_type": "code",
   "execution_count": 34,
   "metadata": {},
   "outputs": [
    {
     "name": "stdout",
     "output_type": "stream",
     "text": [
      "I'am from ClassB\n",
      "I'am from ClassA\n",
      "20\n",
      "3\n"
     ]
    }
   ],
   "source": [
    "class A: # parent class\n",
    "    a,b = 10,20\n",
    "    def display():\n",
    "        print(\"I'am from ClassA\")\n",
    "class B(A): # child class\n",
    "    c,d = 5,3\n",
    "    def show():\n",
    "        print(\"I'am from ClassB\")\n",
    "obj = B\n",
    "obj.show()\n",
    "obj.display()\n",
    "print(obj.b)\n",
    "print(obj.d)"
   ]
  },
  {
   "cell_type": "markdown",
   "metadata": {},
   "source": [
    "#### Multilevel inheritance\n",
    "- one or more parent classes and one or more child classes\n",
    "<img src = 'multilevel2.png'>"
   ]
  },
  {
   "cell_type": "code",
   "execution_count": 38,
   "metadata": {},
   "outputs": [
    {
     "name": "stdout",
     "output_type": "stream",
     "text": [
      "I am from classC\n",
      "I am from classA\n",
      "I am from classB\n"
     ]
    }
   ],
   "source": [
    "class A:\n",
    "    def classA():\n",
    "        print('I am from classA')\n",
    "class B(A):\n",
    "    def classB():\n",
    "        print('I am from classB')\n",
    "class C(B):\n",
    "    def classC():\n",
    "        print('I am from classC')\n",
    "obj = C\n",
    "obj.classC()\n",
    "obj.classA()\n",
    "obj.classB()"
   ]
  },
  {
   "cell_type": "markdown",
   "metadata": {},
   "source": [
    "### Multiple Inheritance\n",
    "- More than one parent class and one child class.\n",
    "<img src='multiple.png'>"
   ]
  },
  {
   "cell_type": "code",
   "execution_count": 40,
   "metadata": {},
   "outputs": [
    {
     "name": "stdout",
     "output_type": "stream",
     "text": [
      "I am from classC\n",
      "I am from classA\n",
      "I am from classB\n"
     ]
    }
   ],
   "source": [
    "class A:\n",
    "    def classA():\n",
    "        print('I am from classA')\n",
    "class B:\n",
    "    def classB():\n",
    "        print('I am from classB')\n",
    "class C(A,B):\n",
    "    def classC():\n",
    "        print('I am from classC')\n",
    "obj = C\n",
    "obj.classC()\n",
    "obj.classA()\n",
    "obj.classB()"
   ]
  },
  {
   "cell_type": "code",
   "execution_count": null,
   "metadata": {},
   "outputs": [],
   "source": []
  }
 ],
 "metadata": {
  "kernelspec": {
   "display_name": "Python 3",
   "language": "python",
   "name": "python3"
  },
  "language_info": {
   "codemirror_mode": {
    "name": "ipython",
    "version": 3
   },
   "file_extension": ".py",
   "mimetype": "text/x-python",
   "name": "python",
   "nbconvert_exporter": "python",
   "pygments_lexer": "ipython3",
   "version": "3.8.3"
  }
 },
 "nbformat": 4,
 "nbformat_minor": 4
}
