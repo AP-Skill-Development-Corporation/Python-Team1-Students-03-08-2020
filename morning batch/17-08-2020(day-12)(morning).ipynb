{
 "cells": [
  {
   "cell_type": "code",
   "execution_count": 5,
   "metadata": {},
   "outputs": [],
   "source": [
    "li2=(\"abc\",\"10.0\",\"bcd\",\"11\",\"cde\",\"CDE\",\"15\",\"20.0\")\n",
    "def alpha(i):\n",
    "    if i.isalpha():\n",
    "        return True\n",
    "def digits(i):\n",
    "    if i.isdigit():\n",
    "        return True\n",
    "def floats(i):\n",
    "    d,temp=\"\",0\n",
    "    for j in i:\n",
    "        if j==\".\":\n",
    "            temp+=1\n",
    "        else:\n",
    "            d+=j\n",
    "    if temp==1 and d.isdigit():\n",
    "        #print(temp,d)\n",
    "        return True"
   ]
  },
  {
   "cell_type": "code",
   "execution_count": 6,
   "metadata": {},
   "outputs": [
    {
     "data": {
      "text/plain": [
       "['abc', 'bcd', 'cde', 'CDE']"
      ]
     },
     "execution_count": 6,
     "metadata": {},
     "output_type": "execute_result"
    }
   ],
   "source": [
    "words=list(filter(alpha,li2))\n",
    "words"
   ]
  },
  {
   "cell_type": "code",
   "execution_count": 7,
   "metadata": {},
   "outputs": [
    {
     "data": {
      "text/plain": [
       "['11', '15']"
      ]
     },
     "execution_count": 7,
     "metadata": {},
     "output_type": "execute_result"
    }
   ],
   "source": [
    "numbers=list(filter(digits,li2))\n",
    "numbers"
   ]
  },
  {
   "cell_type": "code",
   "execution_count": 8,
   "metadata": {},
   "outputs": [
    {
     "data": {
      "text/plain": [
       "['10.0', '20.0']"
      ]
     },
     "execution_count": 8,
     "metadata": {},
     "output_type": "execute_result"
    }
   ],
   "source": [
    "floats1=list(filter(floats,li2))\n",
    "floats1"
   ]
  },
  {
   "cell_type": "code",
   "execution_count": null,
   "metadata": {},
   "outputs": [],
   "source": []
  },
  {
   "cell_type": "code",
   "execution_count": null,
   "metadata": {},
   "outputs": [],
   "source": [
    "#lambda:\n",
    "- python lambda is just a function without a name or anonymous function.\n",
    "# syn:\n",
    "lambda argument:expression\n",
    "- lambda takes 0 or more arguments but only one expression"
   ]
  },
  {
   "cell_type": "code",
   "execution_count": 9,
   "metadata": {},
   "outputs": [
    {
     "data": {
      "text/plain": [
       "8"
      ]
     },
     "execution_count": 9,
     "metadata": {},
     "output_type": "execute_result"
    }
   ],
   "source": [
    "#without arguments\n",
    "r=lambda :2**3\n",
    "r()"
   ]
  },
  {
   "cell_type": "code",
   "execution_count": 11,
   "metadata": {},
   "outputs": [
    {
     "data": {
      "text/plain": [
       "64"
      ]
     },
     "execution_count": 11,
     "metadata": {},
     "output_type": "execute_result"
    }
   ],
   "source": [
    "# one argument\n",
    "r=lambda x:x**3\n",
    "r(4)"
   ]
  },
  {
   "cell_type": "code",
   "execution_count": 13,
   "metadata": {},
   "outputs": [
    {
     "data": {
      "text/plain": [
       "4096"
      ]
     },
     "execution_count": 13,
     "metadata": {},
     "output_type": "execute_result"
    }
   ],
   "source": [
    "# multiple argument\n",
    "r=lambda x,y:x**y\n",
    "r(4,6)"
   ]
  },
  {
   "cell_type": "code",
   "execution_count": 14,
   "metadata": {
    "scrolled": true
   },
   "outputs": [
    {
     "ename": "TypeError",
     "evalue": "unsupported operand type(s) for ** or pow(): 'list' and 'int'",
     "output_type": "error",
     "traceback": [
      "\u001b[1;31m---------------------------------------------------------------------------\u001b[0m",
      "\u001b[1;31mTypeError\u001b[0m                                 Traceback (most recent call last)",
      "\u001b[1;32m<ipython-input-14-bda39259abb3>\u001b[0m in \u001b[0;36m<module>\u001b[1;34m\u001b[0m\n\u001b[0;32m      1\u001b[0m \u001b[0mr\u001b[0m\u001b[1;33m=\u001b[0m\u001b[1;32mlambda\u001b[0m \u001b[0mx\u001b[0m\u001b[1;33m:\u001b[0m\u001b[0mx\u001b[0m\u001b[1;33m**\u001b[0m\u001b[1;36m3\u001b[0m\u001b[1;33m\u001b[0m\u001b[1;33m\u001b[0m\u001b[0m\n\u001b[1;32m----> 2\u001b[1;33m \u001b[0mr\u001b[0m\u001b[1;33m(\u001b[0m\u001b[1;33m[\u001b[0m\u001b[1;36m13\u001b[0m\u001b[1;33m,\u001b[0m\u001b[1;36m14\u001b[0m\u001b[1;33m,\u001b[0m\u001b[1;36m15\u001b[0m\u001b[1;33m,\u001b[0m\u001b[1;36m12\u001b[0m\u001b[1;33m]\u001b[0m\u001b[1;33m)\u001b[0m\u001b[1;33m\u001b[0m\u001b[1;33m\u001b[0m\u001b[0m\n\u001b[0m",
      "\u001b[1;32m<ipython-input-14-bda39259abb3>\u001b[0m in \u001b[0;36m<lambda>\u001b[1;34m(x)\u001b[0m\n\u001b[1;32m----> 1\u001b[1;33m \u001b[0mr\u001b[0m\u001b[1;33m=\u001b[0m\u001b[1;32mlambda\u001b[0m \u001b[0mx\u001b[0m\u001b[1;33m:\u001b[0m\u001b[0mx\u001b[0m\u001b[1;33m**\u001b[0m\u001b[1;36m3\u001b[0m\u001b[1;33m\u001b[0m\u001b[1;33m\u001b[0m\u001b[0m\n\u001b[0m\u001b[0;32m      2\u001b[0m \u001b[0mr\u001b[0m\u001b[1;33m(\u001b[0m\u001b[1;33m[\u001b[0m\u001b[1;36m13\u001b[0m\u001b[1;33m,\u001b[0m\u001b[1;36m14\u001b[0m\u001b[1;33m,\u001b[0m\u001b[1;36m15\u001b[0m\u001b[1;33m,\u001b[0m\u001b[1;36m12\u001b[0m\u001b[1;33m]\u001b[0m\u001b[1;33m)\u001b[0m\u001b[1;33m\u001b[0m\u001b[1;33m\u001b[0m\u001b[0m\n",
      "\u001b[1;31mTypeError\u001b[0m: unsupported operand type(s) for ** or pow(): 'list' and 'int'"
     ]
    }
   ],
   "source": [
    "# lambda is not iterable, so by using map() or filter() we change lambda as iterable\n",
    "r=lambda x:x**3\n",
    "r([13,14,15,12])"
   ]
  },
  {
   "cell_type": "code",
   "execution_count": null,
   "metadata": {},
   "outputs": [],
   "source": [
    "#syn map:\n",
    "map(function,iterable1,iterable2,.......)\n",
    "#syn filter:\n",
    "filter(function,iterable1,iterable2,........)"
   ]
  },
  {
   "cell_type": "code",
   "execution_count": 16,
   "metadata": {},
   "outputs": [
    {
     "name": "stdout",
     "output_type": "stream",
     "text": [
      "[1, 8, 27, 64, 125]\n"
     ]
    }
   ],
   "source": [
    "r=map(lambda x:x**3,[1,2,3,4,5])\n",
    "print(list(r))"
   ]
  },
  {
   "cell_type": "code",
   "execution_count": 17,
   "metadata": {},
   "outputs": [
    {
     "name": "stdout",
     "output_type": "stream",
     "text": [
      "[5, 7, 10]\n"
     ]
    }
   ],
   "source": [
    "#2 iterable items\n",
    "n1=[1,2,3]\n",
    "n2=[4,5,7]\n",
    "r=map(lambda x,y:x+y,n1,n2)\n",
    "print(list(r))"
   ]
  },
  {
   "cell_type": "code",
   "execution_count": 19,
   "metadata": {},
   "outputs": [
    {
     "name": "stdout",
     "output_type": "stream",
     "text": [
      "[20, 22, 24, 26, 28, 30, 32, 34, 36, 38, 40]\n"
     ]
    }
   ],
   "source": [
    "even=lambda n:n%2==0\n",
    "r=list(filter(even,range(20,41)))\n",
    "print(r)"
   ]
  },
  {
   "cell_type": "code",
   "execution_count": null,
   "metadata": {},
   "outputs": [],
   "source": [
    "w=['sun','mon','tues','thus','fri','sat']\n",
    "lambda t:\n",
    "    if len(t)==3:\n",
    "        print(t)\n",
    "    else:\n",
    "        print('')"
   ]
  },
  {
   "cell_type": "code",
   "execution_count": 21,
   "metadata": {},
   "outputs": [
    {
     "name": "stdout",
     "output_type": "stream",
     "text": [
      "['sun', 'mon', 'fri', 'sat']\n"
     ]
    }
   ],
   "source": [
    "w=['sun','mon','tues','thus','fri','sat']\n",
    "d=list(filter(lambda t:t if len(t)==3 else '',w))\n",
    "print(d)"
   ]
  },
  {
   "cell_type": "code",
   "execution_count": 22,
   "metadata": {},
   "outputs": [
    {
     "name": "stdout",
     "output_type": "stream",
     "text": [
      "sun\n",
      "mon\n",
      "fri\n",
      "sat\n"
     ]
    }
   ],
   "source": [
    "w=['sun','mon','tues','thus','fri','sat']\n",
    "d=filter(lambda t:t if len(t)==3 else '',w)\n",
    "for i in d:\n",
    "    print(i)"
   ]
  },
  {
   "cell_type": "code",
   "execution_count": null,
   "metadata": {},
   "outputs": [],
   "source": [
    "# task:\n",
    "n1=['albert','james','nikola']\n",
    "n2=['einstein','watt','tesla']\n",
    "o/p:['Albert Einstein','James Watt','Nikola Tesla']\n",
    "    (map,list,lambda)"
   ]
  },
  {
   "cell_type": "code",
   "execution_count": null,
   "metadata": {},
   "outputs": [],
   "source": []
  },
  {
   "cell_type": "code",
   "execution_count": null,
   "metadata": {},
   "outputs": [],
   "source": [
    "# oop's:\n",
    "- python is an object oriented programming language.\n",
    "- objects\n",
    "- classes\n",
    "- constructors\n",
    "- inheritance"
   ]
  },
  {
   "cell_type": "code",
   "execution_count": null,
   "metadata": {},
   "outputs": [],
   "source": [
    "# object:\n",
    "- every object will have certain attributes and behaviour.\n",
    "ex:human\n",
    "    (height,age,name)---->attributes----->variables\n",
    "    (walking,talking,eating)----->behaviour--->methods\n",
    "- object is an instance of class(sample copy of a class)\n",
    "- object is a real time entity\n",
    "# syn:\n",
    "obj_name=Classname()"
   ]
  },
  {
   "cell_type": "code",
   "execution_count": null,
   "metadata": {},
   "outputs": [],
   "source": [
    "#class:\n",
    "- collection of objects(blueprint)(design)\n",
    "- class is an collection of variables and methods.\n",
    "# function:it is a collection of statements.\n",
    "# method:if function is existed inside the class then it is method\n",
    "#syn:\n",
    "class Classname:\n",
    "    list of variables\n",
    "    list of methods\n",
    "- 'class' is a keyword for creating class structure"
   ]
  },
  {
   "cell_type": "code",
   "execution_count": null,
   "metadata": {},
   "outputs": [],
   "source": [
    "#using class"
   ]
  },
  {
   "cell_type": "code",
   "execution_count": 39,
   "metadata": {},
   "outputs": [],
   "source": [
    "class Hii:\n",
    "    name=\"pavani\"\n",
    "    rollno=27\n",
    "    def hello():\n",
    "        print(\"welcome\")"
   ]
  },
  {
   "cell_type": "code",
   "execution_count": 40,
   "metadata": {},
   "outputs": [
    {
     "name": "stdout",
     "output_type": "stream",
     "text": [
      "welcome\n"
     ]
    }
   ],
   "source": [
    "Hii.hello()"
   ]
  },
  {
   "cell_type": "code",
   "execution_count": 41,
   "metadata": {},
   "outputs": [
    {
     "data": {
      "text/plain": [
       "'pavani'"
      ]
     },
     "execution_count": 41,
     "metadata": {},
     "output_type": "execute_result"
    }
   ],
   "source": [
    "Hii.name"
   ]
  },
  {
   "cell_type": "code",
   "execution_count": 42,
   "metadata": {},
   "outputs": [
    {
     "data": {
      "text/plain": [
       "27"
      ]
     },
     "execution_count": 42,
     "metadata": {},
     "output_type": "execute_result"
    }
   ],
   "source": [
    "Hii.rollno"
   ]
  },
  {
   "cell_type": "code",
   "execution_count": 43,
   "metadata": {},
   "outputs": [],
   "source": [
    "# using object"
   ]
  },
  {
   "cell_type": "code",
   "execution_count": 45,
   "metadata": {},
   "outputs": [],
   "source": [
    "class Hii:\n",
    "    name=\"pavani\"\n",
    "    rollno=27\n",
    "    def hello():\n",
    "        print(\"welcome\")"
   ]
  },
  {
   "cell_type": "code",
   "execution_count": 48,
   "metadata": {},
   "outputs": [
    {
     "name": "stdout",
     "output_type": "stream",
     "text": [
      "pavani\n",
      "27\n",
      "welcome\n"
     ]
    }
   ],
   "source": [
    "obj=Hii\n",
    "#print(obj)\n",
    "#print(dir(obj))\n",
    "print(obj.name)\n",
    "print(obj.rollno)\n",
    "obj.hello()"
   ]
  },
  {
   "cell_type": "code",
   "execution_count": 49,
   "metadata": {},
   "outputs": [
    {
     "name": "stdout",
     "output_type": "stream",
     "text": [
      "welcome\n"
     ]
    }
   ],
   "source": [
    "obj1=Hii\n",
    "obj1.hello()"
   ]
  },
  {
   "cell_type": "code",
   "execution_count": 51,
   "metadata": {},
   "outputs": [
    {
     "name": "stdout",
     "output_type": "stream",
     "text": [
      "2731863713416\n",
      "2731863713416\n"
     ]
    }
   ],
   "source": [
    "print(id(obj))\n",
    "print(id(obj1))"
   ]
  },
  {
   "cell_type": "code",
   "execution_count": 52,
   "metadata": {},
   "outputs": [],
   "source": [
    "class Calsi:\n",
    "    def add(n1,n2):\n",
    "        return n1+n2\n",
    "    def sub(n1,n2):\n",
    "        return n1-n2\n",
    "    def mul(n1,n2):\n",
    "        return n1*n2\n",
    "    def div(n1,n2):\n",
    "        return n1/n2\n",
    "    def mod(n1,n2):\n",
    "        return n1%n2"
   ]
  },
  {
   "cell_type": "code",
   "execution_count": 56,
   "metadata": {},
   "outputs": [
    {
     "name": "stdout",
     "output_type": "stream",
     "text": [
      "30\n",
      "-10\n",
      "200\n",
      "0.5\n",
      "10\n"
     ]
    }
   ],
   "source": [
    "cal=Calsi\n",
    "print(cal.add(10,20))\n",
    "print(cal.sub(10,20))\n",
    "print(cal.mul(10,20))\n",
    "print(cal.div(10,20))\n",
    "print(cal.mod(10,20))"
   ]
  },
  {
   "cell_type": "code",
   "execution_count": 57,
   "metadata": {},
   "outputs": [
    {
     "name": "stdout",
     "output_type": "stream",
     "text": [
      "i5 16gb 1TB\n"
     ]
    }
   ],
   "source": [
    "class Computer:\n",
    "    def config(self): #com1 #com2 \n",
    "        print(\"i5\",'16gb','1TB')\n",
    "com1=Computer()\n",
    "com1.config()"
   ]
  },
  {
   "cell_type": "code",
   "execution_count": 58,
   "metadata": {},
   "outputs": [
    {
     "name": "stdout",
     "output_type": "stream",
     "text": [
      "i5 16gb 1TB\n"
     ]
    }
   ],
   "source": [
    "com2=Computer()\n",
    "com2.config()"
   ]
  },
  {
   "cell_type": "code",
   "execution_count": null,
   "metadata": {},
   "outputs": [],
   "source": [
    "class----->design\n",
    "object---->instance"
   ]
  },
  {
   "cell_type": "code",
   "execution_count": null,
   "metadata": {},
   "outputs": [],
   "source": [
    "# constructors:\n",
    "- A Constructor is a special type of method(function)\n",
    "- which is used to initialize the instance members of class\n",
    "- in python for creating constructor we will use __init__(self)\n",
    "- in constructor self parameter finds the current reference object\n",
    "# syn:\n",
    "class Classname:\n",
    "    def __init__(self): #default parameter\n",
    "    def __init__(self,a,b) #first variable acts as default parameter\n",
    "    def __init__(a,b,self) # here a acts as default parameter"
   ]
  },
  {
   "cell_type": "code",
   "execution_count": null,
   "metadata": {},
   "outputs": [],
   "source": []
  },
  {
   "cell_type": "code",
   "execution_count": 62,
   "metadata": {},
   "outputs": [
    {
     "name": "stdout",
     "output_type": "stream",
     "text": [
      "iam init\n"
     ]
    }
   ],
   "source": [
    "class Computer:\n",
    "    def __init__(self): #com1\n",
    "        print(\"iam init\")\n",
    "    def config(self): #com1 #com2 \n",
    "        print(\"i5\",'16gb','1TB')\n",
    "com1=Computer()"
   ]
  },
  {
   "cell_type": "code",
   "execution_count": 61,
   "metadata": {},
   "outputs": [
    {
     "name": "stdout",
     "output_type": "stream",
     "text": [
      "iam init\n"
     ]
    }
   ],
   "source": [
    "# without using object we will call function\n",
    "# create object for class but doesn't use the object to call the function\n",
    "com2=Computer()\n",
    "#com2.config()"
   ]
  },
  {
   "cell_type": "code",
   "execution_count": 63,
   "metadata": {},
   "outputs": [
    {
     "ename": "TypeError",
     "evalue": "__init__() missing 2 required positional arguments: 'cpu' and 'ram'",
     "output_type": "error",
     "traceback": [
      "\u001b[1;31m---------------------------------------------------------------------------\u001b[0m",
      "\u001b[1;31mTypeError\u001b[0m                                 Traceback (most recent call last)",
      "\u001b[1;32m<ipython-input-63-08cf0bb836c9>\u001b[0m in \u001b[0;36m<module>\u001b[1;34m\u001b[0m\n\u001b[0;32m      5\u001b[0m     \u001b[1;32mdef\u001b[0m \u001b[0mconfig\u001b[0m\u001b[1;33m(\u001b[0m\u001b[0mself\u001b[0m\u001b[1;33m)\u001b[0m\u001b[1;33m:\u001b[0m \u001b[1;31m#com1 #com2\u001b[0m\u001b[1;33m\u001b[0m\u001b[1;33m\u001b[0m\u001b[0m\n\u001b[0;32m      6\u001b[0m         \u001b[0mprint\u001b[0m\u001b[1;33m(\u001b[0m\u001b[1;34m\"config is:\"\u001b[0m\u001b[1;33m,\u001b[0m\u001b[0mself\u001b[0m\u001b[1;33m.\u001b[0m\u001b[0mcpu\u001b[0m\u001b[1;33m,\u001b[0m\u001b[0mself\u001b[0m\u001b[1;33m.\u001b[0m\u001b[0mram\u001b[0m\u001b[1;33m)\u001b[0m\u001b[1;33m\u001b[0m\u001b[1;33m\u001b[0m\u001b[0m\n\u001b[1;32m----> 7\u001b[1;33m \u001b[0mcom1\u001b[0m\u001b[1;33m=\u001b[0m\u001b[0mComputer\u001b[0m\u001b[1;33m(\u001b[0m\u001b[1;33m)\u001b[0m\u001b[1;33m\u001b[0m\u001b[1;33m\u001b[0m\u001b[0m\n\u001b[0m",
      "\u001b[1;31mTypeError\u001b[0m: __init__() missing 2 required positional arguments: 'cpu' and 'ram'"
     ]
    }
   ],
   "source": [
    "class Computer:\n",
    "    def __init__(self,cpu,ram):\n",
    "        self.cpu=cpu\n",
    "        self.ram=ram\n",
    "    def config(self): #com1 #com2 \n",
    "        print(\"config is:\",self.cpu,self.ram)\n",
    "com1=Computer()"
   ]
  },
  {
   "cell_type": "code",
   "execution_count": 65,
   "metadata": {},
   "outputs": [
    {
     "name": "stdout",
     "output_type": "stream",
     "text": [
      "config is: i5 16\n"
     ]
    }
   ],
   "source": [
    "class Computer:\n",
    "    def __init__(self,cpu,ram):\n",
    "        self.cpu=cpu\n",
    "        self.ram=ram\n",
    "    def config(self):\n",
    "        print(\"config is:\",self.cpu,self.ram)\n",
    "com1=Computer(\"i5\",16)\n",
    "com1.config()"
   ]
  },
  {
   "cell_type": "code",
   "execution_count": 66,
   "metadata": {},
   "outputs": [
    {
     "name": "stdout",
     "output_type": "stream",
     "text": [
      "config is: ryzan 3 8\n"
     ]
    }
   ],
   "source": [
    "com2=Computer(\"ryzan 3\",8)\n",
    "com2.config()"
   ]
  },
  {
   "cell_type": "code",
   "execution_count": 68,
   "metadata": {},
   "outputs": [
    {
     "ename": "TypeError",
     "evalue": "__init__() takes 3 positional arguments but 4 were given",
     "output_type": "error",
     "traceback": [
      "\u001b[1;31m---------------------------------------------------------------------------\u001b[0m",
      "\u001b[1;31mTypeError\u001b[0m                                 Traceback (most recent call last)",
      "\u001b[1;32m<ipython-input-68-e455875b0c76>\u001b[0m in \u001b[0;36m<module>\u001b[1;34m\u001b[0m\n\u001b[1;32m----> 1\u001b[1;33m \u001b[0mcom3\u001b[0m\u001b[1;33m=\u001b[0m\u001b[0mComputer\u001b[0m\u001b[1;33m(\u001b[0m\u001b[1;34m\"ryzan 3\"\u001b[0m\u001b[1;33m,\u001b[0m\u001b[1;36m8\u001b[0m\u001b[1;33m,\u001b[0m\u001b[1;34m\"jhgsjhgjh\"\u001b[0m\u001b[1;33m)\u001b[0m\u001b[1;33m\u001b[0m\u001b[1;33m\u001b[0m\u001b[0m\n\u001b[0m\u001b[0;32m      2\u001b[0m \u001b[0mcom3\u001b[0m\u001b[1;33m.\u001b[0m\u001b[0mconfig\u001b[0m\u001b[1;33m(\u001b[0m\u001b[1;33m)\u001b[0m\u001b[1;33m\u001b[0m\u001b[1;33m\u001b[0m\u001b[0m\n",
      "\u001b[1;31mTypeError\u001b[0m: __init__() takes 3 positional arguments but 4 were given"
     ]
    }
   ],
   "source": [
    "com3=Computer(\"ryzan 3\",8,\"jhgsjhgjh\")\n",
    "com3.config()"
   ]
  },
  {
   "cell_type": "code",
   "execution_count": 69,
   "metadata": {},
   "outputs": [
    {
     "name": "stdout",
     "output_type": "stream",
     "text": [
      "2731872342928\n",
      "2731872342872\n"
     ]
    }
   ],
   "source": [
    "class Com:\n",
    "    pass\n",
    "c1=Com()\n",
    "c2=Com()\n",
    "print(id(c1))\n",
    "print(id(c2))"
   ]
  },
  {
   "cell_type": "code",
   "execution_count": 75,
   "metadata": {},
   "outputs": [
    {
     "name": "stdout",
     "output_type": "stream",
     "text": [
      "pavani\n",
      "Suvarna\n",
      "24\n",
      "23\n"
     ]
    }
   ],
   "source": [
    "class Hii:\n",
    "    def __init__(self):\n",
    "        self.name=\"pavani\"\n",
    "        self.age=23\n",
    "c1=Hii()\n",
    "c2=Hii()\n",
    "c2.name=\"Suvarna\"\n",
    "c1.age=24\n",
    "print(c1.name)\n",
    "print(c2.name)\n",
    "print(c1.age)\n",
    "print(c2.age)"
   ]
  },
  {
   "cell_type": "code",
   "execution_count": 80,
   "metadata": {},
   "outputs": [
    {
     "name": "stdout",
     "output_type": "stream",
     "text": [
      "pavani\n",
      "23\n",
      "pavani\n",
      "30\n",
      "None\n"
     ]
    }
   ],
   "source": [
    "class Hii:\n",
    "    \n",
    "    def __init__(self):\n",
    "        self.name=\"pavani\"\n",
    "        self.age=23\n",
    "        '''\n",
    "        in Hii class i have only update method\n",
    "        '''\n",
    "    def update(self):\n",
    "        self.age=30\n",
    "c1=Hii()\n",
    "c2=Hii()\n",
    "print(c1.name)\n",
    "print(c1.age)\n",
    "c1.update()\n",
    "print(c1.name)\n",
    "print(c1.age)\n",
    "print(c1.__doc__)"
   ]
  },
  {
   "cell_type": "code",
   "execution_count": 81,
   "metadata": {},
   "outputs": [
    {
     "name": "stdout",
     "output_type": "stream",
     "text": [
      "pavani\n",
      "23\n",
      "pavani\n",
      "30\n",
      "\n",
      "        in Hii class i have only update method\n",
      "        \n"
     ]
    }
   ],
   "source": [
    "class Hii:\n",
    "    '''\n",
    "        in Hii class i have only update method\n",
    "        '''\n",
    "    def __init__(self):\n",
    "        self.name=\"pavani\"\n",
    "        self.age=23\n",
    "        \n",
    "    def update(self):\n",
    "        self.age=30\n",
    "c1=Hii()\n",
    "c2=Hii()\n",
    "print(c1.name)\n",
    "print(c1.age)\n",
    "c1.update()\n",
    "print(c1.name)\n",
    "print(c1.age)\n",
    "print(c1.__doc__)"
   ]
  },
  {
   "cell_type": "code",
   "execution_count": 82,
   "metadata": {},
   "outputs": [],
   "source": [
    "class Math:\n",
    "    def __init__(abc,v1,v2):\n",
    "        abc.v1=v1\n",
    "        abc.v2=v2\n",
    "    def show(abc):\n",
    "        print(abc.v1)\n",
    "        print(abc.v2)\n",
    "    def add(abc,v3):\n",
    "        print(abc.v1+abc.v2+v3)\n",
    "m=Math(5,6)"
   ]
  },
  {
   "cell_type": "code",
   "execution_count": 83,
   "metadata": {},
   "outputs": [
    {
     "name": "stdout",
     "output_type": "stream",
     "text": [
      "5\n",
      "6\n"
     ]
    }
   ],
   "source": [
    "m.show()"
   ]
  },
  {
   "cell_type": "code",
   "execution_count": 85,
   "metadata": {},
   "outputs": [
    {
     "name": "stdout",
     "output_type": "stream",
     "text": [
      "21\n"
     ]
    }
   ],
   "source": [
    "m.add(10)"
   ]
  },
  {
   "cell_type": "code",
   "execution_count": 86,
   "metadata": {},
   "outputs": [
    {
     "ename": "TypeError",
     "evalue": "add() missing 1 required positional argument: 'v3'",
     "output_type": "error",
     "traceback": [
      "\u001b[1;31m---------------------------------------------------------------------------\u001b[0m",
      "\u001b[1;31mTypeError\u001b[0m                                 Traceback (most recent call last)",
      "\u001b[1;32m<ipython-input-86-aafb26f7ed35>\u001b[0m in \u001b[0;36m<module>\u001b[1;34m\u001b[0m\n\u001b[1;32m----> 1\u001b[1;33m \u001b[0mm\u001b[0m\u001b[1;33m.\u001b[0m\u001b[0madd\u001b[0m\u001b[1;33m(\u001b[0m\u001b[1;33m)\u001b[0m\u001b[1;33m\u001b[0m\u001b[1;33m\u001b[0m\u001b[0m\n\u001b[0m",
      "\u001b[1;31mTypeError\u001b[0m: add() missing 1 required positional argument: 'v3'"
     ]
    }
   ],
   "source": [
    "m.add()"
   ]
  },
  {
   "cell_type": "code",
   "execution_count": null,
   "metadata": {},
   "outputs": [],
   "source": [
    "# inheritance\n",
    "- we can create a class which uses all the properties and behaviour of another class\n",
    "- new class is known as child class or derived class or sub class\n",
    "- and the one whose properties are acquired is known as a base class or parentclass or superclass\n",
    "- re usability of the code\n",
    "- #syn for child:\n",
    "class childclass(parentclass):\n",
    "- #syn for parent:\n",
    "class parentclass():  \n",
    "# types of inhertances:\n",
    "1)single level(one parent,one child)\n",
    "2)multiple(multiple parents,one child)\n",
    "3)multi level(grandfather,father,son)\n",
    "4)hierarchical(single parent,multiple childs)\n",
    "5)hybrid(all inheritances)"
   ]
  },
  {
   "cell_type": "code",
   "execution_count": 93,
   "metadata": {},
   "outputs": [],
   "source": [
    "# single inheritance:\n",
    "class Parent():\n",
    "    a,b=10,45\n",
    "    def display():\n",
    "        print(\"iam from class A\")\n",
    "class Child(Parent):\n",
    "    c,d=23,67\n",
    "    def show():\n",
    "        print(\"iam from Class B\")"
   ]
  },
  {
   "cell_type": "code",
   "execution_count": 94,
   "metadata": {},
   "outputs": [
    {
     "name": "stdout",
     "output_type": "stream",
     "text": [
      "10\n",
      "45\n",
      "iam from class A\n",
      "None\n"
     ]
    },
    {
     "ename": "AttributeError",
     "evalue": "type object 'Parent' has no attribute 'c'",
     "output_type": "error",
     "traceback": [
      "\u001b[1;31m---------------------------------------------------------------------------\u001b[0m",
      "\u001b[1;31mAttributeError\u001b[0m                            Traceback (most recent call last)",
      "\u001b[1;32m<ipython-input-94-8c80269f2960>\u001b[0m in \u001b[0;36m<module>\u001b[1;34m\u001b[0m\n\u001b[0;32m      3\u001b[0m \u001b[0mprint\u001b[0m\u001b[1;33m(\u001b[0m\u001b[0mobj\u001b[0m\u001b[1;33m.\u001b[0m\u001b[0mb\u001b[0m\u001b[1;33m)\u001b[0m\u001b[1;33m\u001b[0m\u001b[1;33m\u001b[0m\u001b[0m\n\u001b[0;32m      4\u001b[0m \u001b[0mprint\u001b[0m\u001b[1;33m(\u001b[0m\u001b[0mobj\u001b[0m\u001b[1;33m.\u001b[0m\u001b[0mdisplay\u001b[0m\u001b[1;33m(\u001b[0m\u001b[1;33m)\u001b[0m\u001b[1;33m)\u001b[0m\u001b[1;33m\u001b[0m\u001b[1;33m\u001b[0m\u001b[0m\n\u001b[1;32m----> 5\u001b[1;33m \u001b[0mprint\u001b[0m\u001b[1;33m(\u001b[0m\u001b[0mobj\u001b[0m\u001b[1;33m.\u001b[0m\u001b[0mc\u001b[0m\u001b[1;33m)\u001b[0m\u001b[1;33m\u001b[0m\u001b[1;33m\u001b[0m\u001b[0m\n\u001b[0m\u001b[0;32m      6\u001b[0m \u001b[0mprint\u001b[0m\u001b[1;33m(\u001b[0m\u001b[0mobj\u001b[0m\u001b[1;33m.\u001b[0m\u001b[0md\u001b[0m\u001b[1;33m)\u001b[0m\u001b[1;33m\u001b[0m\u001b[1;33m\u001b[0m\u001b[0m\n\u001b[0;32m      7\u001b[0m \u001b[0mprint\u001b[0m\u001b[1;33m(\u001b[0m\u001b[0mobj\u001b[0m\u001b[1;33m.\u001b[0m\u001b[0mshow\u001b[0m\u001b[1;33m(\u001b[0m\u001b[1;33m)\u001b[0m\u001b[1;33m)\u001b[0m\u001b[1;33m\u001b[0m\u001b[1;33m\u001b[0m\u001b[0m\n",
      "\u001b[1;31mAttributeError\u001b[0m: type object 'Parent' has no attribute 'c'"
     ]
    }
   ],
   "source": [
    "obj=Parent\n",
    "print(obj.a)\n",
    "print(obj.b)\n",
    "print(obj.display())\n",
    "print(obj.c)\n",
    "print(obj.d)\n",
    "print(obj.show())"
   ]
  },
  {
   "cell_type": "code",
   "execution_count": 95,
   "metadata": {},
   "outputs": [
    {
     "name": "stdout",
     "output_type": "stream",
     "text": [
      "10\n",
      "45\n",
      "iam from class A\n",
      "23\n",
      "67\n",
      "iam from Class B\n"
     ]
    }
   ],
   "source": [
    "obj=Child\n",
    "print(obj.a)\n",
    "print(obj.b)\n",
    "obj.display()\n",
    "print(obj.c)\n",
    "print(obj.d)\n",
    "obj.show()"
   ]
  },
  {
   "cell_type": "code",
   "execution_count": 96,
   "metadata": {},
   "outputs": [],
   "source": [
    "#multiple inheritance\n",
    "class father():\n",
    "    def display1():\n",
    "        print(\"iam from class A\")\n",
    "class mother():\n",
    "    def display2():\n",
    "        print(\"iam from class A\")\n",
    "class Child(father,mother):\n",
    "    c,d=23,67\n",
    "    def show():\n",
    "        print(\"iam from Class B\")"
   ]
  },
  {
   "cell_type": "code",
   "execution_count": 97,
   "metadata": {},
   "outputs": [
    {
     "name": "stdout",
     "output_type": "stream",
     "text": [
      "iam from class A\n",
      "iam from class A\n",
      "iam from Class B\n"
     ]
    }
   ],
   "source": [
    "obj=Child\n",
    "\n",
    "obj.display1()\n",
    "obj.display2()\n",
    "obj.show()"
   ]
  },
  {
   "cell_type": "code",
   "execution_count": null,
   "metadata": {},
   "outputs": [],
   "source": []
  }
 ],
 "metadata": {
  "kernelspec": {
   "display_name": "Python 3",
   "language": "python",
   "name": "python3"
  },
  "language_info": {
   "codemirror_mode": {
    "name": "ipython",
    "version": 3
   },
   "file_extension": ".py",
   "mimetype": "text/x-python",
   "name": "python",
   "nbconvert_exporter": "python",
   "pygments_lexer": "ipython3",
   "version": "3.7.3"
  }
 },
 "nbformat": 4,
 "nbformat_minor": 2
}
