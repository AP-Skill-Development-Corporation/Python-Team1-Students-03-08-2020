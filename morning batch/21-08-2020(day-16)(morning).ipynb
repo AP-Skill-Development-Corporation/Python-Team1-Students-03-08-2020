{
 "cells": [
  {
   "cell_type": "code",
   "execution_count": 2,
   "metadata": {},
   "outputs": [],
   "source": [
    "# matplotlib (continution.....):"
   ]
  },
  {
   "cell_type": "code",
   "execution_count": 11,
   "metadata": {},
   "outputs": [
    {
     "data": {
      "image/png": "[encoded data removed]",
      "text/plain": [
       "<Figure size 432x288 with 1 Axes>"
      ]
     },
     "metadata": {},
     "output_type": "display_data"
    }
   ],
   "source": [
    "# pie chart:\n",
    "import matplotlib.pyplot as plt\n",
    "labels=['python','html','java','c','sql']\n",
    "slices=[60000,29000,30000,40000,41000]\n",
    "explode=[0,0,0.1,0,0]\n",
    "plt.pie(slices,labels=labels,wedgeprops={'edgecolor':'black'},startangle=90,explode=explode,shadow=True)\n",
    "plt.tight_layout()\n",
    "plt.show()"
   ]
  },
  {
   "cell_type": "code",
   "execution_count": 15,
   "metadata": {
    "scrolled": true
   },
   "outputs": [
    {
     "data": {
      "text/html": [
       "<div>\n",
       "<style scoped>\n",
       "    .dataframe tbody tr th:only-of-type {\n",
       "        vertical-align: middle;\n",
       "    }\n",
       "\n",
       "    .dataframe tbody tr th {\n",
       "        vertical-align: top;\n",
       "    }\n",
       "\n",
       "    .dataframe thead th {\n",
       "        text-align: right;\n",
       "    }\n",
       "</style>\n",
       "<table border=\"1\" class=\"dataframe\">\n",
       "  <thead>\n",
       "    <tr style=\"text-align: right;\">\n",
       "      <th></th>\n",
       "      <th>Unnamed: 0</th>\n",
       "      <th>manufacturer</th>\n",
       "      <th>model</th>\n",
       "      <th>displ</th>\n",
       "      <th>year</th>\n",
       "      <th>cyl</th>\n",
       "      <th>trans</th>\n",
       "      <th>drv</th>\n",
       "      <th>cty</th>\n",
       "      <th>hwy</th>\n",
       "      <th>fl</th>\n",
       "      <th>class</th>\n",
       "    </tr>\n",
       "  </thead>\n",
       "  <tbody>\n",
       "    <tr>\n",
       "      <th>0</th>\n",
       "      <td>1</td>\n",
       "      <td>audi</td>\n",
       "      <td>a4</td>\n",
       "      <td>1.8</td>\n",
       "      <td>1999</td>\n",
       "      <td>4</td>\n",
       "      <td>auto(l5)</td>\n",
       "      <td>f</td>\n",
       "      <td>18</td>\n",
       "      <td>29</td>\n",
       "      <td>p</td>\n",
       "      <td>compact</td>\n",
       "    </tr>\n",
       "    <tr>\n",
       "      <th>1</th>\n",
       "      <td>2</td>\n",
       "      <td>audi</td>\n",
       "      <td>a4</td>\n",
       "      <td>1.8</td>\n",
       "      <td>1999</td>\n",
       "      <td>4</td>\n",
       "      <td>manual(m5)</td>\n",
       "      <td>f</td>\n",
       "      <td>21</td>\n",
       "      <td>29</td>\n",
       "      <td>p</td>\n",
       "      <td>compact</td>\n",
       "    </tr>\n",
       "    <tr>\n",
       "      <th>2</th>\n",
       "      <td>3</td>\n",
       "      <td>audi</td>\n",
       "      <td>a4</td>\n",
       "      <td>2.0</td>\n",
       "      <td>2008</td>\n",
       "      <td>4</td>\n",
       "      <td>manual(m6)</td>\n",
       "      <td>f</td>\n",
       "      <td>20</td>\n",
       "      <td>31</td>\n",
       "      <td>p</td>\n",
       "      <td>compact</td>\n",
       "    </tr>\n",
       "    <tr>\n",
       "      <th>3</th>\n",
       "      <td>4</td>\n",
       "      <td>audi</td>\n",
       "      <td>a4</td>\n",
       "      <td>2.0</td>\n",
       "      <td>2008</td>\n",
       "      <td>4</td>\n",
       "      <td>auto(av)</td>\n",
       "      <td>f</td>\n",
       "      <td>21</td>\n",
       "      <td>30</td>\n",
       "      <td>p</td>\n",
       "      <td>compact</td>\n",
       "    </tr>\n",
       "    <tr>\n",
       "      <th>4</th>\n",
       "      <td>5</td>\n",
       "      <td>audi</td>\n",
       "      <td>a4</td>\n",
       "      <td>2.8</td>\n",
       "      <td>1999</td>\n",
       "      <td>6</td>\n",
       "      <td>auto(l5)</td>\n",
       "      <td>f</td>\n",
       "      <td>16</td>\n",
       "      <td>26</td>\n",
       "      <td>p</td>\n",
       "      <td>compact</td>\n",
       "    </tr>\n",
       "  </tbody>\n",
       "</table>\n",
       "</div>"
      ],
      "text/plain": [
       "   Unnamed: 0 manufacturer model  displ  year  cyl       trans drv  cty  hwy  \\\n",
       "0           1         audi    a4    1.8  1999    4    auto(l5)   f   18   29   \n",
       "1           2         audi    a4    1.8  1999    4  manual(m5)   f   21   29   \n",
       "2           3         audi    a4    2.0  2008    4  manual(m6)   f   20   31   \n",
       "3           4         audi    a4    2.0  2008    4    auto(av)   f   21   30   \n",
       "4           5         audi    a4    2.8  1999    6    auto(l5)   f   16   26   \n",
       "\n",
       "  fl    class  \n",
       "0  p  compact  \n",
       "1  p  compact  \n",
       "2  p  compact  \n",
       "3  p  compact  \n",
       "4  p  compact  "
      ]
     },
     "execution_count": 15,
     "metadata": {},
     "output_type": "execute_result"
    }
   ],
   "source": [
    "import pandas as pd\n",
    "m=pd.read_csv('mpg.csv')\n",
    "m.head()"
   ]
  },
  {
   "cell_type": "code",
   "execution_count": 18,
   "metadata": {},
   "outputs": [
    {
     "data": {
      "text/plain": [
       "0      1999\n",
       "1      1999\n",
       "2      2008\n",
       "3      2008\n",
       "4      1999\n",
       "5      1999\n",
       "6      2008\n",
       "7      1999\n",
       "8      1999\n",
       "9      2008\n",
       "10     2008\n",
       "11     1999\n",
       "12     1999\n",
       "13     2008\n",
       "14     2008\n",
       "15     1999\n",
       "16     2008\n",
       "17     2008\n",
       "18     2008\n",
       "19     2008\n",
       "20     2008\n",
       "21     1999\n",
       "22     2008\n",
       "23     1999\n",
       "24     1999\n",
       "25     2008\n",
       "26     2008\n",
       "27     2008\n",
       "28     2008\n",
       "29     2008\n",
       "       ... \n",
       "204    1999\n",
       "205    2008\n",
       "206    2008\n",
       "207    1999\n",
       "208    1999\n",
       "209    2008\n",
       "210    2008\n",
       "211    1999\n",
       "212    1999\n",
       "213    1999\n",
       "214    1999\n",
       "215    2008\n",
       "216    2008\n",
       "217    2008\n",
       "218    2008\n",
       "219    1999\n",
       "220    1999\n",
       "221    1999\n",
       "222    1999\n",
       "223    1999\n",
       "224    1999\n",
       "225    2008\n",
       "226    2008\n",
       "227    1999\n",
       "228    1999\n",
       "229    2008\n",
       "230    2008\n",
       "231    1999\n",
       "232    1999\n",
       "233    2008\n",
       "Name: year, Length: 234, dtype: int64"
      ]
     },
     "execution_count": 18,
     "metadata": {},
     "output_type": "execute_result"
    }
   ],
   "source": [
    "m['year']"
   ]
  },
  {
   "cell_type": "code",
   "execution_count": 13,
   "metadata": {},
   "outputs": [
    {
     "data": {
      "image/png": "[encoded data removed]",
      "text/plain": [
       "<Figure size 432x288 with 1 Axes>"
      ]
     },
     "metadata": {
      "needs_background": "light"
     },
     "output_type": "display_data"
    }
   ],
   "source": [
    "# histogram:\n",
    "import matplotlib.pyplot as plt\n",
    "plt.hist(m['year'])\n",
    "plt.tight_layout()\n",
    "plt.show()"
   ]
  },
  {
   "cell_type": "code",
   "execution_count": 20,
   "metadata": {
    "scrolled": false
   },
   "outputs": [
    {
     "data": {
      "image/png": "[encoded data removed]",
      "text/plain": [
       "<Figure size 432x288 with 2 Axes>"
      ]
     },
     "metadata": {
      "needs_background": "light"
     },
     "output_type": "display_data"
    }
   ],
   "source": [
    "#scatter plot\n",
    "plt.scatter(m['hwy'],m['cty'])\n",
    "cbar=plt.colorbar()\n",
    "plt.show()"
   ]
  },
  {
   "cell_type": "code",
   "execution_count": 22,
   "metadata": {},
   "outputs": [
    {
     "data": {
      "text/plain": [
       "0      29\n",
       "1      29\n",
       "2      31\n",
       "3      30\n",
       "4      26\n",
       "5      26\n",
       "6      27\n",
       "7      26\n",
       "8      25\n",
       "9      28\n",
       "10     27\n",
       "11     25\n",
       "12     25\n",
       "13     25\n",
       "14     25\n",
       "15     24\n",
       "16     25\n",
       "17     23\n",
       "18     20\n",
       "19     15\n",
       "20     20\n",
       "21     17\n",
       "22     17\n",
       "23     26\n",
       "24     23\n",
       "25     26\n",
       "26     25\n",
       "27     24\n",
       "28     19\n",
       "29     14\n",
       "       ..\n",
       "204    19\n",
       "205    18\n",
       "206    20\n",
       "207    29\n",
       "208    26\n",
       "209    29\n",
       "210    29\n",
       "211    24\n",
       "212    44\n",
       "213    29\n",
       "214    26\n",
       "215    29\n",
       "216    29\n",
       "217    29\n",
       "218    29\n",
       "219    23\n",
       "220    24\n",
       "221    44\n",
       "222    41\n",
       "223    29\n",
       "224    26\n",
       "225    28\n",
       "226    29\n",
       "227    29\n",
       "228    29\n",
       "229    28\n",
       "230    29\n",
       "231    26\n",
       "232    26\n",
       "233    26\n",
       "Name: hwy, Length: 234, dtype: int64"
      ]
     },
     "execution_count": 22,
     "metadata": {},
     "output_type": "execute_result"
    }
   ],
   "source": [
    "m['hwy']"
   ]
  },
  {
   "cell_type": "code",
   "execution_count": 21,
   "metadata": {},
   "outputs": [
    {
     "data": {
      "image/png": "[encoded data removed]",
      "text/plain": [
       "<Figure size 432x288 with 1 Axes>"
      ]
     },
     "metadata": {
      "needs_background": "light"
     },
     "output_type": "display_data"
    }
   ],
   "source": [
    "#boxplot\n",
    "plt.boxplot(m['hwy'])\n",
    "plt.show()"
   ]
  },
  {
   "cell_type": "code",
   "execution_count": 29,
   "metadata": {},
   "outputs": [
    {
     "data": {
      "image/png": "[encoded data removed]",
      "text/plain": [
       "<Figure size 432x288 with 2 Axes>"
      ]
     },
     "metadata": {
      "needs_background": "light"
     },
     "output_type": "display_data"
    },
    {
     "data": {
      "image/png": "[encoded data removed]",
      "text/plain": [
       "<Figure size 432x288 with 2 Axes>"
      ]
     },
     "metadata": {
      "needs_background": "light"
     },
     "output_type": "display_data"
    }
   ],
   "source": [
    "#subplots:\n",
    "import numpy as np\n",
    "import matplotlib.pyplot as plt\n",
    "x=np.linspace(1,10,100)\n",
    "plt.figure(1)\n",
    "#subplot1\n",
    "plt.subplot(2,2,1)\n",
    "plt.title('linear')\n",
    "plt.plot(x,x)\n",
    "#subplot2\n",
    "plt.subplot(2,2,2)\n",
    "plt.title('cubic')\n",
    "plt.plot(x,x**3)\n",
    "\n",
    "plt.figure(2)\n",
    "#subplot1\n",
    "plt.subplot(2,2,1)\n",
    "plt.title('log')\n",
    "plt.plot(x,np.log(x))\n",
    "#subplot2\n",
    "plt.subplot(2,2,2)\n",
    "plt.title('exponential')\n",
    "plt.plot(x,x**2)\n",
    "plt.show()"
   ]
  },
  {
   "cell_type": "code",
   "execution_count": null,
   "metadata": {},
   "outputs": [],
   "source": []
  },
  {
   "cell_type": "code",
   "execution_count": null,
   "metadata": {},
   "outputs": [],
   "source": [
    "#github link:\n",
    "https://github.com/AP-Skill-Development-Corporation/Python-Team1-Students-03-08-2020/tree/master/morning%20batch"
   ]
  },
  {
   "cell_type": "code",
   "execution_count": null,
   "metadata": {},
   "outputs": [],
   "source": [
    "#recorded sessions link:\n",
    "https://drive.google.com/drive/folders/1IB1QnHfZ8Z0LfE6_OAjHclQwTnNXdlbu?usp=sharing"
   ]
  }
 ],
 "metadata": {
  "kernelspec": {
   "display_name": "Python 3",
   "language": "python",
   "name": "python3"
  },
  "language_info": {
   "codemirror_mode": {
    "name": "ipython",
    "version": 3
   },
   "file_extension": ".py",
   "mimetype": "text/x-python",
   "name": "python",
   "nbconvert_exporter": "python",
   "pygments_lexer": "ipython3",
   "version": "3.7.3"
  }
 },
 "nbformat": 4,
 "nbformat_minor": 2
}
