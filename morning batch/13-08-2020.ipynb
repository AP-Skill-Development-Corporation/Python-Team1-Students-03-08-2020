{
 "cells": [
  {
   "cell_type": "code",
   "execution_count": 1,
   "metadata": {},
   "outputs": [
    {
     "data": {
      "text/plain": [
       "{' ', 'P', 'a', 'g', 'h', 'i', 'm', 'n', 'o', 'p', 'r', 't', 'y'}"
      ]
     },
     "execution_count": 1,
     "metadata": {},
     "output_type": "execute_result"
    }
   ],
   "source": [
    "#set comprehension\n",
    "#syntax:- datavar={var for var in datastructure condition}\n",
    "s1={i for i in \"python Programming\"}\n",
    "s1"
   ]
  },
  {
   "cell_type": "code",
   "execution_count": 6,
   "metadata": {},
   "outputs": [
    {
     "data": {
      "text/plain": [
       "{'a', 'g', 'h', 'i', 'm', 'n', 'o', 'p', 'r', 't', 'y'}"
      ]
     },
     "execution_count": 6,
     "metadata": {},
     "output_type": "execute_result"
    }
   ],
   "source": [
    "s1={i for i in \"python Programming\" if i.islower()}\n",
    "s1"
   ]
  },
  {
   "cell_type": "code",
   "execution_count": 8,
   "metadata": {},
   "outputs": [
    {
     "name": "stdout",
     "output_type": "stream",
     "text": [
      "{132, 6, 138, 12, 144, 18, 150, 24, 156, 30, 162, 36, 168, 42, 174, 48, 180, 54, 186, 60, 192, 66, 198, 72, 78, 84, 90, 96, 102, 108, 114, 120, 126}\n"
     ]
    }
   ],
   "source": [
    "s2={i for i in range(200,1,-1) if i%3==0 if i%6==0}\n",
    "print(s2)"
   ]
  },
  {
   "cell_type": "code",
   "execution_count": null,
   "metadata": {},
   "outputs": [],
   "source": [
    "#dictionary comprehension\n",
    "#syntax:- datavar={Key:value for k,v in zip() condition}"
   ]
  },
  {
   "cell_type": "code",
   "execution_count": 11,
   "metadata": {},
   "outputs": [
    {
     "data": {
      "text/plain": [
       "{'a': 1, 'b': 2, 'c': 3, 'd': 3}"
      ]
     },
     "execution_count": 11,
     "metadata": {},
     "output_type": "execute_result"
    }
   ],
   "source": [
    "d1={k:v for k,v in zip([\"a\",\"b\",\"c\",\"d\"],[1,2,3,3])}\n",
    "d1"
   ]
  },
  {
   "cell_type": "code",
   "execution_count": null,
   "metadata": {},
   "outputs": [],
   "source": [
    "d1={k:v for k,v in zip([\"a\",\"b\",\"c\",\"d\"],[1,2,3,3]) if v>=2}\n",
    "d1"
   ]
  },
  {
   "cell_type": "code",
   "execution_count": 15,
   "metadata": {},
   "outputs": [
    {
     "name": "stdout",
     "output_type": "stream",
     "text": [
      "a\n"
     ]
    },
    {
     "data": {
      "text/plain": [
       "{'a': None, 'b': 2, 'c': 3, 'd': 3}"
      ]
     },
     "execution_count": 15,
     "metadata": {},
     "output_type": "execute_result"
    }
   ],
   "source": [
    "d1={k:v if v>=2 else print(k) for k,v in zip([\"a\",\"b\",\"c\",\"d\"],[1,2,3,3])}\n",
    "d1"
   ]
  },
  {
   "cell_type": "code",
   "execution_count": 30,
   "metadata": {},
   "outputs": [
    {
     "name": "stdout",
     "output_type": "stream",
     "text": [
      "{'a': 1, 'c': 15, 10.0: 82}\n"
     ]
    }
   ],
   "source": [
    "x=zip([\"a\",\"c\",10.0],[1,15,82])\n",
    "#print(list(x))\n",
    "#print(tuple(x))\n",
    "#print(set(x))\n",
    "print(dict(x))\n"
   ]
  },
  {
   "cell_type": "code",
   "execution_count": 33,
   "metadata": {},
   "outputs": [
    {
     "name": "stdout",
     "output_type": "stream",
     "text": [
      "g e n e r a t o r   C o m p r e h e n s i o n "
     ]
    }
   ],
   "source": [
    "#generator Comprehension\n",
    "#syntax:- datavar=(var for var in datastruct condition)\n",
    "g1=(i for i in \"generator Comprehension\")\n",
    "for j in g1:\n",
    "    print(j,end=\" \")"
   ]
  },
  {
   "cell_type": "code",
   "execution_count": 34,
   "metadata": {},
   "outputs": [
    {
     "name": "stdout",
     "output_type": "stream",
     "text": [
      "G C "
     ]
    }
   ],
   "source": [
    "g1=(i for i in \"Generator Comprehension\" if i.isupper())\n",
    "for j in g1:\n",
    "    print(j,end=\" \")"
   ]
  },
  {
   "cell_type": "markdown",
   "metadata": {},
   "source": [
    "#### file handeling\n",
    "- Open \n",
    "- do opertations in that file \n",
    "- close"
   ]
  },
  {
   "cell_type": "markdown",
   "metadata": {},
   "source": [
    "##### methodes used\n",
    "- open()\n",
    "- with open()\n",
    "- read()\n",
    "- write()\n",
    "- close()\n",
    "- readlines()\n",
    "##### Modes while opening a file\n",
    "- read mode-'r'\n",
    "- write mode-'w'\n",
    "- append mode-'a'"
   ]
  },
  {
   "cell_type": "code",
   "execution_count": 36,
   "metadata": {},
   "outputs": [
    {
     "name": "stdout",
     "output_type": "stream",
     "text": [
      "Apssdc\n",
      "line2\n",
      "line3\n",
      "line4\n",
      "12356\n",
      "kavitha\n",
      "Ram\n"
     ]
    }
   ],
   "source": [
    "f=open(\"data.txt\")\n",
    "fh=f.read()\n",
    "print(fh)\n",
    "f.close()"
   ]
  },
  {
   "cell_type": "code",
   "execution_count": 39,
   "metadata": {},
   "outputs": [
    {
     "name": "stdout",
     "output_type": "stream",
     "text": [
      "Apssdc\n",
      "li\n"
     ]
    }
   ],
   "source": [
    "with open(\"data.txt\",\"r\") as f:\n",
    "    fdata=f.read(9)\n",
    "    print(fdata)"
   ]
  },
  {
   "cell_type": "code",
   "execution_count": 40,
   "metadata": {},
   "outputs": [
    {
     "name": "stdout",
     "output_type": "stream",
     "text": [
      "15\n"
     ]
    }
   ],
   "source": [
    "with open(\"data.txt\",\"w\") as f:\n",
    "    fdata=f.write(\"Apssdc Programs\")\n",
    "    print(fdata)"
   ]
  },
  {
   "cell_type": "code",
   "execution_count": 43,
   "metadata": {},
   "outputs": [
    {
     "name": "stdout",
     "output_type": "stream",
     "text": [
      "42\n"
     ]
    }
   ],
   "source": [
    "with open(\"data1.txt\",\"w\") as f:\n",
    "    fdata=f.write(fh)\n",
    "    print(fdata)"
   ]
  },
  {
   "cell_type": "code",
   "execution_count": 49,
   "metadata": {},
   "outputs": [
    {
     "name": "stdout",
     "output_type": "stream",
     "text": [
      "19\n"
     ]
    }
   ],
   "source": [
    "with open(\"data1.txt\",\"a\") as f:\n",
    "    fdata=f.write(\"\\nPython Programming\")\n",
    "    print(fdata)"
   ]
  },
  {
   "cell_type": "code",
   "execution_count": 51,
   "metadata": {},
   "outputs": [
    {
     "name": "stdout",
     "output_type": "stream",
     "text": [
      "Apssdc\n",
      "\n",
      "line2\n",
      "\n",
      "line3\n",
      "\n",
      "line4\n",
      "\n",
      "12356\n",
      "\n",
      "kavitha\n",
      "\n",
      "Ram\n"
     ]
    }
   ],
   "source": [
    "with open(\"data1.txt\",\"r\") as f:\n",
    "    fdata=f.readlines()\n",
    "for i in fdata:\n",
    "    print(i)"
   ]
  },
  {
   "cell_type": "code",
   "execution_count": null,
   "metadata": {},
   "outputs": [],
   "source": []
  }
 ],
 "metadata": {
  "kernelspec": {
   "display_name": "Python 3",
   "language": "python",
   "name": "python3"
  },
  "language_info": {
   "codemirror_mode": {
    "name": "ipython",
    "version": 3
   },
   "file_extension": ".py",
   "mimetype": "text/x-python",
   "name": "python",
   "nbconvert_exporter": "python",
   "pygments_lexer": "ipython3",
   "version": "3.7.3"
  }
 },
 "nbformat": 4,
 "nbformat_minor": 2
}
